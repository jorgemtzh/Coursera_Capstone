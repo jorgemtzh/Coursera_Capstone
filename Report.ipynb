{
 "cells": [
  {
   "cell_type": "markdown",
   "metadata": {},
   "source": [
    "# Report: Where to build a GYM in Madrid, Spain?"
   ]
  },
  {
   "cell_type": "markdown",
   "metadata": {},
   "source": [
    "## 1. Introduction: Business problem and stakeholders"
   ]
  },
  {
   "cell_type": "markdown",
   "metadata": {},
   "source": [
    "The aim of this project is to discover where is the optimal place to build a gym in the city of Madrid, Spain. To answer this question we will analyze which neighborhoods have a gym and if there are any similarities between them. We will also see which neighborhoods have the least amount of gyms.\n",
    "\n",
    "The audience of this report should be people interested in starting a new gym in the city of Madrid.\n",
    "\n",
    "GYMs are increasing in popularity and provide great benefits such as:\n",
    "* Health benefits\n",
    "* Access to a vast variety of equipment\n",
    "* Socialize\n",
    "* Establish a healthy routine\n",
    "* Motivation for other tasks\n",
    "\n",
    "Taking those benefits into account, it is obvious that every neighborhood should have at least one gym."
   ]
  },
  {
   "cell_type": "markdown",
   "metadata": {},
   "source": [
    "## 2. Used data and source of the data."
   ]
  },
  {
   "cell_type": "markdown",
   "metadata": {},
   "source": [
    "* Foursquare API: We will be using the Foursquare API to obtain data. Mainly, we will be using the Venues endpoint.\n",
    "\n",
    "* Yelp API: To complement data from Foursquare, we are also going to use data from Yelp (if possible). \n",
    "\n",
    "Both APIs provide geolocation of different business, in our case we will be interested in GYMs and Sport Centers.\n"
   ]
  },
  {
   "cell_type": "markdown",
   "metadata": {},
   "source": [
    "## 3. Methodology"
   ]
  },
  {
   "cell_type": "markdown",
   "metadata": {},
   "source": [
    "..."
   ]
  },
  {
   "cell_type": "markdown",
   "metadata": {},
   "source": [
    "## 4. Results"
   ]
  },
  {
   "cell_type": "markdown",
   "metadata": {},
   "source": [
    "..."
   ]
  },
  {
   "cell_type": "markdown",
   "metadata": {},
   "source": [
    "## 5. Discussion"
   ]
  },
  {
   "cell_type": "markdown",
   "metadata": {},
   "source": [
    "..."
   ]
  },
  {
   "cell_type": "markdown",
   "metadata": {},
   "source": [
    "## 6. Conclusion"
   ]
  },
  {
   "cell_type": "markdown",
   "metadata": {},
   "source": [
    "..."
   ]
  },
  {
   "cell_type": "code",
   "execution_count": null,
   "metadata": {},
   "outputs": [],
   "source": []
  }
 ],
 "metadata": {
  "kernelspec": {
   "display_name": "Python 3",
   "language": "python",
   "name": "python3"
  },
  "language_info": {
   "codemirror_mode": {
    "name": "ipython",
    "version": 3
   },
   "file_extension": ".py",
   "mimetype": "text/x-python",
   "name": "python",
   "nbconvert_exporter": "python",
   "pygments_lexer": "ipython3",
   "version": "3.7.1"
  }
 },
 "nbformat": 4,
 "nbformat_minor": 4
}
